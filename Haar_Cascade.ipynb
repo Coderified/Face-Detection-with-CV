{
 "cells": [
  {
   "cell_type": "code",
   "execution_count": 22,
   "metadata": {},
   "outputs": [],
   "source": [
    "#All the necessary imports are carried out\n",
    "import cv2\n",
    "\n",
    "from cv2 import imread\n",
    "\n",
    "from cv2 import imshow\n",
    "\n",
    "from cv2 import waitKey\n",
    "\n",
    "from cv2 import destroyAllWindows\n",
    "\n",
    "#Cascade Classifier is built-in CV\n",
    "from cv2 import CascadeClassifier\n",
    "\n",
    "#to draw the rectangle \n",
    "from cv2 import rectangle\n",
    "\n",
    "# load the photograph\n",
    "pixels = imread('C:/Users/DELL/Desktop/302035382109d406767bae0bf8fd44d5.jpg')\n",
    "# load the pre-trained model\n",
    "classifier = CascadeClassifier('D:\\PYTHON- udemy Courses\\haarcascade_xml\\haarcascade_frontalface_default.xml')\n",
    "\n",
    "\n",
    "\n"
   ]
  },
  {
   "cell_type": "code",
   "execution_count": 23,
   "metadata": {},
   "outputs": [
    {
     "name": "stdout",
     "output_type": "stream",
     "text": [
      "[[401 136  45  45]\n",
      " [110 139  32  32]\n",
      " [297 134  41  41]\n",
      " [201 140  39  39]\n",
      " [852 146  32  32]\n",
      " [790  16  30  30]\n",
      " [181  24  29  29]\n",
      " [251  46  28  28]\n",
      " [739  48  26  26]\n",
      " [538  47  28  28]\n",
      " [824  47  30  30]\n",
      " [598  52  30  30]\n",
      " [379  52  32  32]\n",
      " [548  99  31  31]\n",
      " [459 100  34  34]\n",
      " [461  64  29  29]\n",
      " [351 104  38  38]\n",
      " [634 105  32  32]\n",
      " [ 80 109  30  30]\n",
      " [254 107  32  32]\n",
      " [299  68  32  32]\n",
      " [729 105  41  41]\n",
      " [817 112  32  32]\n",
      " [164 118  32  32]\n",
      " [678 128  38  38]\n",
      " [516 130  40  40]\n",
      " [612 132  34  34]\n",
      " [781 135  33  33]]\n"
     ]
    }
   ],
   "source": [
    "#The model in action\n",
    "bboxes = classifier.detectMultiScale(pixels)\n",
    "\n",
    "#Prints the coordinates of image where faces according to the model are found\n",
    "print(bboxes)"
   ]
  },
  {
   "cell_type": "code",
   "execution_count": 24,
   "metadata": {},
   "outputs": [],
   "source": [
    "# print bounding box for each detected face\n",
    "for box in bboxes:\n",
    "    \n",
    "    # extract the coordnates of the rectangle\n",
    "    x, y, width, height = box\n",
    "    \n",
    "    #the top right corner of the rectangle is calculated \n",
    "    x2, y2 = x + width, y + height\n",
    "    \n",
    "    # draw a rectangle over the pixels\n",
    "    rectangle(pixels, (x, y), (x2, y2), (0,0,255), 1)\n",
    "\n",
    "# show the image\n",
    "imshow('face detection', pixels)\n",
    "\n",
    "# keep the window open until we press a key\n",
    "waitKey(0)\n",
    "\n",
    "# close the window\n",
    "destroyAllWindows()"
   ]
  },
  {
   "cell_type": "code",
   "execution_count": null,
   "metadata": {},
   "outputs": [],
   "source": []
  }
 ],
 "metadata": {
  "kernelspec": {
   "display_name": "Python 3",
   "language": "python",
   "name": "python3"
  },
  "language_info": {
   "codemirror_mode": {
    "name": "ipython",
    "version": 3
   },
   "file_extension": ".py",
   "mimetype": "text/x-python",
   "name": "python",
   "nbconvert_exporter": "python",
   "pygments_lexer": "ipython3",
   "version": "3.7.3"
  }
 },
 "nbformat": 4,
 "nbformat_minor": 2
}
